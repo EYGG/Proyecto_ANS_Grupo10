{
 "cells": [
  {
   "cell_type": "markdown",
   "metadata": {},
   "source": [
    "#### Importar Librerías"
   ]
  },
  {
   "cell_type": "code",
   "execution_count": null,
   "metadata": {},
   "outputs": [
    {
     "ename": "",
     "evalue": "",
     "output_type": "error",
     "traceback": [
      "\u001b[1;31mRunning cells with 'c:\\Users\\YOLANDA\\AppData\\Local\\Microsoft\\WindowsApps\\python3.7.exe' requires the ipykernel package.\n",
      "\u001b[1;31mRun the following command to install 'ipykernel' into the Python environment. \n",
      "\u001b[1;31mCommand: 'c:/Users/YOLANDA/AppData/Local/Microsoft/WindowsApps/python3.7.exe -m pip install ipykernel -U --user --force-reinstall'"
     ]
    }
   ],
   "source": [
    "import pandas as pd\n",
    "import numpy as np\n",
    "import datetime as dt\n",
    "import matplotlib.pyplot as plt\n",
    "import seaborn as sns"
   ]
  },
  {
   "cell_type": "code",
   "execution_count": null,
   "metadata": {},
   "outputs": [
    {
     "ename": "",
     "evalue": "",
     "output_type": "error",
     "traceback": [
      "\u001b[1;31mRunning cells with 'c:\\Users\\YOLANDA\\AppData\\Local\\Microsoft\\WindowsApps\\python3.7.exe' requires the ipykernel package.\n",
      "\u001b[1;31mRun the following command to install 'ipykernel' into the Python environment. \n",
      "\u001b[1;31mCommand: 'c:/Users/YOLANDA/AppData/Local/Microsoft/WindowsApps/python3.7.exe -m pip install ipykernel -U --user --force-reinstall'"
     ]
    }
   ],
   "source": [
    "# Importar datos\n",
    "df_donantesi = pd.read_csv('./Archivos_Cliente/Base_donantes.csv', encoding='latin-1')\n",
    "df_donantesi.set_index('PSN', inplace=True)\n",
    "df_donantesi.head()"
   ]
  },
  {
   "cell_type": "markdown",
   "metadata": {},
   "source": [
    "#### Preprocesamiento de Datos"
   ]
  },
  {
   "cell_type": "code",
   "execution_count": null,
   "metadata": {},
   "outputs": [
    {
     "ename": "",
     "evalue": "",
     "output_type": "error",
     "traceback": [
      "\u001b[1;31mRunning cells with 'c:\\Users\\YOLANDA\\AppData\\Local\\Microsoft\\WindowsApps\\python3.7.exe' requires the ipykernel package.\n",
      "\u001b[1;31mRun the following command to install 'ipykernel' into the Python environment. \n",
      "\u001b[1;31mCommand: 'c:/Users/YOLANDA/AppData/Local/Microsoft/WindowsApps/python3.7.exe -m pip install ipykernel -U --user --force-reinstall'"
     ]
    }
   ],
   "source": [
    "# Remover los registros que tienen \"N° de error\" en la columna Fecha Aniversario Pago\n",
    "df_donantesi = df_donantesi[df_donantesi['Fecha Aniversario Pago']!='Nº de error']\n",
    "# Remover los registros inactivos\n",
    "df_donantesi = df_donantesi[df_donantesi['Donante Activo']==1]\n",
    "# Remover registros menores de edad\n",
    "df_donantesi = df_donantesi[df_donantesi['Edad']>=18]\n",
    "# Remover registros mayores de 90 años\n",
    "df_donantesi = df_donantesi[df_donantesi['Edad']<=90]\n",
    "# Reemplazar textos de la cantidad de hijos\n",
    "df_donantesi['Cantidad de Hijos'] = df_donantesi['Cantidad de Hijos'].replace('mas de 10', 10)\n",
    "df_donantesi['Cantidad de Hijos'] = df_donantesi['Cantidad de Hijos'].astype(float)\n",
    "# Llenar faltantes de tiene hijos\n",
    "df_donantesi['Tiene hijos'] = np.where(df_donantesi['Cantidad de Hijos']>0.0, 'Si', 'No')\n",
    "# Llenar faltantes de cantidad de hijos\n",
    "df_donantesi['Cantidad de Hijos'] = np.where(df_donantesi['Tiene hijos']=='No', 0, df_donantesi['Cantidad de Hijos'])\n",
    "# Cambiar tipos de dato\n",
    "df_donantesi['Fecha de Captación'] = pd.to_datetime(df_donantesi['Fecha de Captación'])\n",
    "df_donantesi['Tipo de registro del contacto'] = df_donantesi['Tipo de registro del contacto'].astype('category')\n",
    "df_donantesi['Fecha de nacimiento'] = pd.to_datetime(df_donantesi['Fecha de nacimiento'])\n",
    "df_donantesi['Fecha Aniversario Pago'] = pd.to_datetime(df_donantesi['Fecha Aniversario Pago'])\n",
    "df_donantesi['Género'] = df_donantesi['Género'].astype('category')\n",
    "df_donantesi['Estado Civil'] = df_donantesi['Estado Civil'].astype('category')\n",
    "df_donantesi['Tiene hijos'] = df_donantesi['Tiene hijos'].astype('category')\n",
    "# Reemplazar NaNs en Fecha Aniversario Pago con la Fecha de Captacion\n",
    "df_donantesi['Fecha Aniversario Pago'] = np.where(df_donantesi['Fecha Aniversario Pago'].isna(), df_donantesi['Fecha de Captación'], df_donantesi['Fecha Aniversario Pago'])\n",
    "# Cambiar el año de Fecha Aniversario Pago por 2023\n",
    "df_donantesi['Fecha Aniversario Pago'] = df_donantesi['Fecha Aniversario Pago'].apply(lambda x: x.replace(year=2023))\n",
    "# Obtener mes de la fecha actual\n",
    "today = dt.datetime.now().month\n",
    "# Remover registros con menos de 3 meses de fecha de captación\n",
    "df_donantesi = df_donantesi[df_donantesi['Fecha de Captación']<dt.datetime(2023, today-3, 1) - dt.timedelta(days=90)]\n",
    "# Corregir Churn Probability\n",
    "df_donantesi['Churn Probability'] = np.where(df_donantesi['Churn Probability']>1, df_donantesi['Churn Probability']/100, df_donantesi['Churn Probability'])\n",
    "# Corregir Lapsed Probability\n",
    "df_donantesi['Lapsed Probability'] = np.where(df_donantesi['Lapsed Probability']>1, df_donantesi['Lapsed Probability']/100, df_donantesi['Lapsed Probability'])\n"
   ]
  },
  {
   "cell_type": "code",
   "execution_count": null,
   "metadata": {},
   "outputs": [
    {
     "ename": "",
     "evalue": "",
     "output_type": "error",
     "traceback": [
      "\u001b[1;31mRunning cells with 'c:\\Users\\YOLANDA\\AppData\\Local\\Microsoft\\WindowsApps\\python3.7.exe' requires the ipykernel package.\n",
      "\u001b[1;31mRun the following command to install 'ipykernel' into the Python environment. \n",
      "\u001b[1;31mCommand: 'c:/Users/YOLANDA/AppData/Local/Microsoft/WindowsApps/python3.7.exe -m pip install ipykernel -U --user --force-reinstall'"
     ]
    }
   ],
   "source": [
    "# Evaluar datos faltantes\n",
    "for col in df_donantesi.columns:\n",
    "    print(f'La columna {col} tiene {df_donantesi[col].isna().sum()}')"
   ]
  },
  {
   "cell_type": "code",
   "execution_count": 5,
   "metadata": {},
   "outputs": [
    {
     "name": "stdout",
     "output_type": "stream",
     "text": [
      "La columna Tipo de registro del contacto: category\n",
      "La columna Fecha de nacimiento: datetime64[ns]\n",
      "La columna Fecha Aniversario Pago: datetime64[ns]\n",
      "La columna Edad: float64\n",
      "La columna Fecha de Captación: datetime64[ns]\n",
      "La columna Monto Actual: float64\n",
      "La columna Género: category\n",
      "La columna Estado Civil: category\n",
      "La columna Cantidad de Hijos: float64\n",
      "La columna Tiene hijos: category\n",
      "La columna Ocupación: object\n",
      "La columna Churn Probability: float64\n",
      "La columna Lapsed Probability: float64\n",
      "La columna RFM Segmento Actual: object\n",
      "La columna Otra Clasificación RFM Actual: object\n",
      "La columna Cantidad Cuotas Pagadas Global: int64\n",
      "La columna Cantidad Cuotas No Pagadas Global: int64\n",
      "La columna Campaña Inicial: Nombre: object\n",
      "La columna Donante Activo: int64\n"
     ]
    }
   ],
   "source": [
    "# Obtener el tipo de dato de las columnas\n",
    "for col in df_donantesi.columns:\n",
    "    print(f'La columna {col}: {df_donantesi[col].dtype}')"
   ]
  },
  {
   "cell_type": "code",
   "execution_count": null,
   "metadata": {},
   "outputs": [
    {
     "ename": "",
     "evalue": "",
     "output_type": "error",
     "traceback": [
      "\u001b[1;31mRunning cells with 'c:\\Users\\YOLANDA\\AppData\\Local\\Microsoft\\WindowsApps\\python3.7.exe' requires the ipykernel package.\n",
      "\u001b[1;31mRun the following command to install 'ipykernel' into the Python environment. \n",
      "\u001b[1;31mCommand: 'c:/Users/YOLANDA/AppData/Local/Microsoft/WindowsApps/python3.7.exe -m pip install ipykernel -U --user --force-reinstall'"
     ]
    }
   ],
   "source": [
    "# Obtener el tipo de dato de las columnas\n",
    "for col in df_donantesi.columns:\n",
    "    print(f'La columna {col}: {df_donantesi[col].dtype}')"
   ]
  },
  {
   "cell_type": "code",
   "execution_count": null,
   "metadata": {},
   "outputs": [
    {
     "ename": "",
     "evalue": "",
     "output_type": "error",
     "traceback": [
      "\u001b[1;31mRunning cells with 'c:\\Users\\YOLANDA\\AppData\\Local\\Microsoft\\WindowsApps\\python3.7.exe' requires the ipykernel package.\n",
      "\u001b[1;31mRun the following command to install 'ipykernel' into the Python environment. \n",
      "\u001b[1;31mCommand: 'c:/Users/YOLANDA/AppData/Local/Microsoft/WindowsApps/python3.7.exe -m pip install ipykernel -U --user --force-reinstall'"
     ]
    }
   ],
   "source": [
    "df_donantesi.describe()"
   ]
  },
  {
   "cell_type": "code",
   "execution_count": null,
   "metadata": {},
   "outputs": [
    {
     "ename": "",
     "evalue": "",
     "output_type": "error",
     "traceback": [
      "\u001b[1;31mRunning cells with 'c:\\Users\\YOLANDA\\AppData\\Local\\Microsoft\\WindowsApps\\python3.7.exe' requires the ipykernel package.\n",
      "\u001b[1;31mRun the following command to install 'ipykernel' into the Python environment. \n",
      "\u001b[1;31mCommand: 'c:/Users/YOLANDA/AppData/Local/Microsoft/WindowsApps/python3.7.exe -m pip install ipykernel -U --user --force-reinstall'"
     ]
    }
   ],
   "source": [
    "# Graficar histograma de edades\n",
    "plt.figure(figsize=(10, 6))\n",
    "sns.histplot(data=df_donantesi, x='Edad', bins=20)\n",
    "plt.title('Histograma de Edades')\n",
    "plt.show()"
   ]
  },
  {
   "cell_type": "code",
   "execution_count": 8,
   "metadata": {},
   "outputs": [
    {
     "data": {
      "image/png": "[encoded data removed]",
      "text/plain": [
       "<Figure size 1000x600 with 1 Axes>"
      ]
     },
     "metadata": {},
     "output_type": "display_data"
    }
   ],
   "source": [
    "# Grafica de pie para el género\n",
    "plt.figure(figsize=(10, 6))\n",
    "df_donantesi['Género'].value_counts().plot(kind='pie', autopct='%1.1f%%')\n",
    "plt.title('Género')\n",
    "plt.show()"
   ]
  },
  {
   "cell_type": "code",
   "execution_count": null,
   "metadata": {},
   "outputs": [
    {
     "ename": "",
     "evalue": "",
     "output_type": "error",
     "traceback": [
      "\u001b[1;31mRunning cells with 'c:\\Users\\YOLANDA\\AppData\\Local\\Microsoft\\WindowsApps\\python3.7.exe' requires the ipykernel package.\n",
      "\u001b[1;31mRun the following command to install 'ipykernel' into the Python environment. \n",
      "\u001b[1;31mCommand: 'c:/Users/YOLANDA/AppData/Local/Microsoft/WindowsApps/python3.7.exe -m pip install ipykernel -U --user --force-reinstall'"
     ]
    }
   ],
   "source": [
    "# Calcular edad del donante\n",
    "df_donantesi['Edad_donacion'] = dt.datetime.now().year - df_donantesi['Fecha de Captación'].dt.year\n",
    "# Graficar histograma de edades de donacion\n",
    "plt.figure(figsize=(10, 6))\n",
    "sns.histplot(data=df_donantesi, x='Edad_donacion', bins=20)\n",
    "plt.title('Histograma de Edades de Donación')\n",
    "plt.show()"
   ]
  },
  {
   "cell_type": "code",
   "execution_count": null,
   "metadata": {},
   "outputs": [
    {
     "ename": "",
     "evalue": "",
     "output_type": "error",
     "traceback": [
      "\u001b[1;31mRunning cells with 'c:\\Users\\YOLANDA\\AppData\\Local\\Microsoft\\WindowsApps\\python3.7.exe' requires the ipykernel package.\n",
      "\u001b[1;31mRun the following command to install 'ipykernel' into the Python environment. \n",
      "\u001b[1;31mCommand: 'c:/Users/YOLANDA/AppData/Local/Microsoft/WindowsApps/python3.7.exe -m pip install ipykernel -U --user --force-reinstall'"
     ]
    }
   ],
   "source": [
    "# Pandas profiling para los datos\n",
    "from ydata_profiling import ProfileReport\n",
    "\n",
    "profile = ProfileReport(df_donantesi, title='Pandas Profiling Report', explorative=True)\n",
    "profile.to_file('Pandas Profiling Report.html')"
   ]
  },
  {
   "cell_type": "markdown",
   "metadata": {},
   "source": [
    "#### Exploración Datos de Transacciones"
   ]
  },
  {
   "cell_type": "code",
   "execution_count": null,
   "metadata": {},
   "outputs": [
    {
     "ename": "",
     "evalue": "",
     "output_type": "error",
     "traceback": [
      "\u001b[1;31mRunning cells with 'c:\\Users\\YOLANDA\\AppData\\Local\\Microsoft\\WindowsApps\\python3.7.exe' requires the ipykernel package.\n",
      "\u001b[1;31mRun the following command to install 'ipykernel' into the Python environment. \n",
      "\u001b[1;31mCommand: 'c:/Users/YOLANDA/AppData/Local/Microsoft/WindowsApps/python3.7.exe -m pip install ipykernel -U --user --force-reinstall'"
     ]
    }
   ],
   "source": [
    "# Importar datos de transacciones individuales\n",
    "df_transi = pd.read_csv('./Archivos_Cliente/Transacciones_Individuales.csv', sep=';', encoding='latin-1')\n",
    "df_transi.head()"
   ]
  },
  {
   "cell_type": "code",
   "execution_count": null,
   "metadata": {},
   "outputs": [
    {
     "ename": "",
     "evalue": "",
     "output_type": "error",
     "traceback": [
      "\u001b[1;31mRunning cells with 'c:\\Users\\YOLANDA\\AppData\\Local\\Microsoft\\WindowsApps\\python3.7.exe' requires the ipykernel package.\n",
      "\u001b[1;31mRun the following command to install 'ipykernel' into the Python environment. \n",
      "\u001b[1;31mCommand: 'c:/Users/YOLANDA/AppData/Local/Microsoft/WindowsApps/python3.7.exe -m pip install ipykernel -U --user --force-reinstall'"
     ]
    }
   ],
   "source": [
    "# Cambiar tipos de dato\n",
    "df_transi['Fecha de Donación'] = pd.to_datetime(df_transi['Fecha de Donación'])\n",
    "df_transi['Etapa'] = df_transi['Etapa'].astype('category')\n",
    "df_transi['Importe'] = df_transi['Importe'].str.replace(',','.')\n",
    "df_transi['Importe'] = df_transi['Importe'].astype(float)\n",
    "df_transi['Canal de la Campaña'] = df_transi['Canal de la Campaña'].astype('category')\n",
    "df_transi['Tipo de registro'] = df_transi['Tipo de registro'].astype('category')\n",
    "df_transi['Medio de Pago'] = df_transi['Medio de Pago'].astype('category')\n",
    "df_transi['Tipo de Compromiso'] = df_transi['Tipo de Compromiso'].astype('category')\n",
    "df_transi['Fecha de Registro Contable'] = pd.to_datetime(df_transi['Fecha de Registro Contable'], format='mixed')\n",
    "df_transi['Fecha efectiva de primer cobro'] = pd.to_datetime(df_transi['Fecha efectiva de primer cobro'])\n",
    "df_transi['Fecha de última donación'] = pd.to_datetime(df_transi['Fecha de última donación'], format='mixed')\n",
    "df_transi['Estado/Tipo'] = df_transi['Estado/Tipo'].astype('category')\n"
   ]
  },
  {
   "cell_type": "code",
   "execution_count": null,
   "metadata": {},
   "outputs": [
    {
     "ename": "",
     "evalue": "",
     "output_type": "error",
     "traceback": [
      "\u001b[1;31mRunning cells with 'c:\\Users\\YOLANDA\\AppData\\Local\\Microsoft\\WindowsApps\\python3.7.exe' requires the ipykernel package.\n",
      "\u001b[1;31mRun the following command to install 'ipykernel' into the Python environment. \n",
      "\u001b[1;31mCommand: 'c:/Users/YOLANDA/AppData/Local/Microsoft/WindowsApps/python3.7.exe -m pip install ipykernel -U --user --force-reinstall'"
     ]
    }
   ],
   "source": [
    "# Tipos de transacciones\n",
    "df_transi['Etapa'].value_counts()"
   ]
  },
  {
   "cell_type": "code",
   "execution_count": null,
   "metadata": {},
   "outputs": [
    {
     "ename": "",
     "evalue": "",
     "output_type": "error",
     "traceback": [
      "\u001b[1;31mRunning cells with 'c:\\Users\\YOLANDA\\AppData\\Local\\Microsoft\\WindowsApps\\python3.7.exe' requires the ipykernel package.\n",
      "\u001b[1;31mRun the following command to install 'ipykernel' into the Python environment. \n",
      "\u001b[1;31mCommand: 'c:/Users/YOLANDA/AppData/Local/Microsoft/WindowsApps/python3.7.exe -m pip install ipykernel -U --user --force-reinstall'"
     ]
    }
   ],
   "source": [
    "# Filtrar donaciones del futuro\n",
    "df_trans_futuras = df_transi[df_transi['Fecha de Donación']>dt.datetime.now()]\n",
    "df_trans_futuras['Etapa'].value_counts()"
   ]
  },
  {
   "cell_type": "code",
   "execution_count": null,
   "metadata": {},
   "outputs": [
    {
     "ename": "",
     "evalue": "",
     "output_type": "error",
     "traceback": [
      "\u001b[1;31mRunning cells with 'c:\\Users\\YOLANDA\\AppData\\Local\\Microsoft\\WindowsApps\\python3.7.exe' requires the ipykernel package.\n",
      "\u001b[1;31mRun the following command to install 'ipykernel' into the Python environment. \n",
      "\u001b[1;31mCommand: 'c:/Users/YOLANDA/AppData/Local/Microsoft/WindowsApps/python3.7.exe -m pip install ipykernel -U --user --force-reinstall'"
     ]
    }
   ],
   "source": [
    "# Filtrar transacciones efectivas\n",
    "df_trans_cobradas = df_transi[df_transi['Etapa']=='Cobrada']\n",
    "df_trans_cobradas.describe()"
   ]
  },
  {
   "cell_type": "code",
   "execution_count": null,
   "metadata": {},
   "outputs": [
    {
     "ename": "",
     "evalue": "",
     "output_type": "error",
     "traceback": [
      "\u001b[1;31mRunning cells with 'c:\\Users\\YOLANDA\\AppData\\Local\\Microsoft\\WindowsApps\\python3.7.exe' requires the ipykernel package.\n",
      "\u001b[1;31mRun the following command to install 'ipykernel' into the Python environment. \n",
      "\u001b[1;31mCommand: 'c:/Users/YOLANDA/AppData/Local/Microsoft/WindowsApps/python3.7.exe -m pip install ipykernel -U --user --force-reinstall'"
     ]
    }
   ],
   "source": [
    "# Graficar de línea para el importe en el tiempo\n",
    "plt.figure(figsize=(10, 6))\n",
    "df_trans_cobradas.groupby('Fecha de Donación')['Importe'].sum().plot()\n",
    "plt.title('Importe en el tiempo')\n",
    "plt.show()"
   ]
  },
  {
   "cell_type": "code",
   "execution_count": null,
   "metadata": {},
   "outputs": [
    {
     "ename": "",
     "evalue": "",
     "output_type": "error",
     "traceback": [
      "\u001b[1;31mRunning cells with 'c:\\Users\\YOLANDA\\AppData\\Local\\Microsoft\\WindowsApps\\python3.7.exe' requires the ipykernel package.\n",
      "\u001b[1;31mRun the following command to install 'ipykernel' into the Python environment. \n",
      "\u001b[1;31mCommand: 'c:/Users/YOLANDA/AppData/Local/Microsoft/WindowsApps/python3.7.exe -m pip install ipykernel -U --user --force-reinstall'"
     ]
    }
   ],
   "source": [
    "df = df_trans_cobradas.join(df_donantesi, on='PSN', how='inner')\n",
    "df.head()"
   ]
  },
  {
   "cell_type": "code",
   "execution_count": null,
   "metadata": {},
   "outputs": [
    {
     "ename": "",
     "evalue": "",
     "output_type": "error",
     "traceback": [
      "\u001b[1;31mRunning cells with 'c:\\Users\\YOLANDA\\AppData\\Local\\Microsoft\\WindowsApps\\python3.7.exe' requires the ipykernel package.\n",
      "\u001b[1;31mRun the following command to install 'ipykernel' into the Python environment. \n",
      "\u001b[1;31mCommand: 'c:/Users/YOLANDA/AppData/Local/Microsoft/WindowsApps/python3.7.exe -m pip install ipykernel -U --user --force-reinstall'"
     ]
    }
   ],
   "source": [
    "# Boxplot de promedio de importe por género\n",
    "plt.figure(figsize=(10, 6))\n",
    "sns.boxplot(data=df, x='Género', y='Importe')\n",
    "plt.title('Boxplot de promedio de importe por género')\n",
    "plt.show()"
   ]
  },
  {
   "cell_type": "code",
   "execution_count": null,
   "metadata": {},
   "outputs": [
    {
     "ename": "",
     "evalue": "",
     "output_type": "error",
     "traceback": [
      "\u001b[1;31mRunning cells with 'c:\\Users\\YOLANDA\\AppData\\Local\\Microsoft\\WindowsApps\\python3.7.exe' requires the ipykernel package.\n",
      "\u001b[1;31mRun the following command to install 'ipykernel' into the Python environment. \n",
      "\u001b[1;31mCommand: 'c:/Users/YOLANDA/AppData/Local/Microsoft/WindowsApps/python3.7.exe -m pip install ipykernel -U --user --force-reinstall'"
     ]
    }
   ],
   "source": [
    "# Gráfica de donantes por fecha de captación\n",
    "plt.figure(figsize=(10, 6))\n",
    "df_donantesi.reset_index(inplace=True)\n",
    "df_donantesi.groupby('Fecha de Captación')['PSN'].count().plot()\n",
    "plt.title('Donantes por fecha de captación')\n",
    "plt.show()"
   ]
  },
  {
   "cell_type": "code",
   "execution_count": null,
   "metadata": {},
   "outputs": [],
   "source": []
  }
 ],
 "metadata": {
  "kernelspec": {
   "display_name": "Python 3",
   "language": "python",
   "name": "python3"
  },
  "language_info": {
   "codemirror_mode": {
    "name": "ipython",
    "version": 3
   },
   "file_extension": ".py",
   "mimetype": "text/x-python",
   "name": "python",
   "nbconvert_exporter": "python",
   "pygments_lexer": "ipython3",
   "version": "3.7.9"
  },
  "orig_nbformat": 4
 },
 "nbformat": 4,
 "nbformat_minor": 2
}
